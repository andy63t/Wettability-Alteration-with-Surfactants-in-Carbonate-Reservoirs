{
 "cells": [
  {
   "cell_type": "markdown",
   "metadata": {},
   "source": [
    "- This notebook provides a comprehensive overview of how to develop screening guidelines of wettability alteration with surfactants in carbonate reservoirs.\n",
    "- It outlines where surfactant treatments could be effectively applied in carbonate reservoirs.\n",
    "- The screening guidelines are developed using descriptive statistical analysis methods."
   ]
  },
  {
   "cell_type": "code",
   "execution_count": 1,
   "metadata": {},
   "outputs": [],
   "source": [
    "# import libraries\n",
    "import pandas as pd\n",
    "import numpy as np\n",
    "import seaborn as sns\n",
    "import matplotlib.pyplot as plt\n",
    "from matplotlib import cbook"
   ]
  },
  {
   "cell_type": "markdown",
   "metadata": {},
   "source": [
    "# 1. Dataset information"
   ]
  },
  {
   "cell_type": "code",
   "execution_count": 2,
   "metadata": {},
   "outputs": [
    {
     "name": "stdout",
     "output_type": "stream",
     "text": [
      "<class 'pandas.core.frame.DataFrame'>\n",
      "RangeIndex: 290 entries, 0 to 289\n",
      "Data columns (total 22 columns):\n",
      " #   Column       Non-Null Count  Dtype  \n",
      "---  ------       --------------  -----  \n",
      " 0   ExpID        290 non-null    object \n",
      " 1   RockRegion   241 non-null    object \n",
      " 2   RockField    244 non-null    object \n",
      " 3   RockType     270 non-null    object \n",
      " 4   RockSource   262 non-null    object \n",
      " 5   K_Type       268 non-null    object \n",
      " 6   K_Mean       290 non-null    float64\n",
      " 7   Poro         286 non-null    float64\n",
      " 8   So           290 non-null    float64\n",
      " 9   ExpTemp      290 non-null    float64\n",
      " 10  OilRegion    222 non-null    object \n",
      " 11  OilType      290 non-null    object \n",
      " 12  ExpVisco     183 non-null    float64\n",
      " 13  Gravity      281 non-null    float64\n",
      " 14  AN           188 non-null    float64\n",
      " 15  BN           124 non-null    float64\n",
      " 16  AS_Conc      194 non-null    float64\n",
      " 17  ConType      290 non-null    object \n",
      " 18  ConTDS       288 non-null    float64\n",
      " 19  ConMg2+      286 non-null    float64\n",
      " 20  ConCa2+      286 non-null    float64\n",
      " 21  ConDivalent  286 non-null    float64\n",
      "dtypes: float64(13), object(9)\n",
      "memory usage: 50.0+ KB\n"
     ]
    }
   ],
   "source": [
    "# import dataset\n",
    "df = pd.read_excel(\"Guideline.xlsx\")\n",
    "df.info()"
   ]
  },
  {
   "cell_type": "markdown",
   "metadata": {},
   "source": [
    "# 2. Rock properties"
   ]
  },
  {
   "cell_type": "markdown",
   "metadata": {},
   "source": [
    "## 2.1 Rock type"
   ]
  },
  {
   "cell_type": "code",
   "execution_count": 3,
   "metadata": {},
   "outputs": [
    {
     "data": {
      "text/html": [
       "<div>\n",
       "<style scoped>\n",
       "    .dataframe tbody tr th:only-of-type {\n",
       "        vertical-align: middle;\n",
       "    }\n",
       "\n",
       "    .dataframe tbody tr th {\n",
       "        vertical-align: top;\n",
       "    }\n",
       "\n",
       "    .dataframe thead th {\n",
       "        text-align: right;\n",
       "    }\n",
       "</style>\n",
       "<table border=\"1\" class=\"dataframe\">\n",
       "  <thead>\n",
       "    <tr style=\"text-align: right;\">\n",
       "      <th>col_0</th>\n",
       "      <th>count</th>\n",
       "    </tr>\n",
       "    <tr>\n",
       "      <th>RockType</th>\n",
       "      <th></th>\n",
       "    </tr>\n",
       "  </thead>\n",
       "  <tbody>\n",
       "    <tr>\n",
       "      <th>Dolomite</th>\n",
       "      <td>134</td>\n",
       "    </tr>\n",
       "    <tr>\n",
       "      <th>Limestone</th>\n",
       "      <td>136</td>\n",
       "    </tr>\n",
       "  </tbody>\n",
       "</table>\n",
       "</div>"
      ],
      "text/plain": [
       "col_0      count\n",
       "RockType        \n",
       "Dolomite     134\n",
       "Limestone    136"
      ]
     },
     "execution_count": 3,
     "metadata": {},
     "output_type": "execute_result"
    }
   ],
   "source": [
    "# rock type\n",
    "# the first column in the crosstable is 'count'\n",
    "pd.crosstab(index= df['RockType'], columns=\"count\")"
   ]
  },
  {
   "cell_type": "markdown",
   "metadata": {},
   "source": [
    "## 2.2 Rock source"
   ]
  },
  {
   "cell_type": "code",
   "execution_count": 4,
   "metadata": {},
   "outputs": [
    {
     "data": {
      "text/html": [
       "<div>\n",
       "<style scoped>\n",
       "    .dataframe tbody tr th:only-of-type {\n",
       "        vertical-align: middle;\n",
       "    }\n",
       "\n",
       "    .dataframe tbody tr th {\n",
       "        vertical-align: top;\n",
       "    }\n",
       "\n",
       "    .dataframe thead th {\n",
       "        text-align: right;\n",
       "    }\n",
       "</style>\n",
       "<table border=\"1\" class=\"dataframe\">\n",
       "  <thead>\n",
       "    <tr style=\"text-align: right;\">\n",
       "      <th>col_0</th>\n",
       "      <th>count</th>\n",
       "    </tr>\n",
       "    <tr>\n",
       "      <th>RockSource</th>\n",
       "      <th></th>\n",
       "    </tr>\n",
       "  </thead>\n",
       "  <tbody>\n",
       "    <tr>\n",
       "      <th>Formation</th>\n",
       "      <td>147</td>\n",
       "    </tr>\n",
       "    <tr>\n",
       "      <th>Outcrop</th>\n",
       "      <td>115</td>\n",
       "    </tr>\n",
       "  </tbody>\n",
       "</table>\n",
       "</div>"
      ],
      "text/plain": [
       "col_0       count\n",
       "RockSource       \n",
       "Formation     147\n",
       "Outcrop       115"
      ]
     },
     "execution_count": 4,
     "metadata": {},
     "output_type": "execute_result"
    }
   ],
   "source": [
    "# rock source\n",
    "pd.crosstab(index= df['RockSource'], columns=\"count\")"
   ]
  },
  {
   "cell_type": "code",
   "execution_count": 5,
   "metadata": {},
   "outputs": [
    {
     "data": {
      "text/html": [
       "<div>\n",
       "<style scoped>\n",
       "    .dataframe tbody tr th:only-of-type {\n",
       "        vertical-align: middle;\n",
       "    }\n",
       "\n",
       "    .dataframe tbody tr th {\n",
       "        vertical-align: top;\n",
       "    }\n",
       "\n",
       "    .dataframe thead th {\n",
       "        text-align: right;\n",
       "    }\n",
       "</style>\n",
       "<table border=\"1\" class=\"dataframe\">\n",
       "  <thead>\n",
       "    <tr style=\"text-align: right;\">\n",
       "      <th>RockType</th>\n",
       "      <th>Dolomite</th>\n",
       "      <th>Limestone</th>\n",
       "    </tr>\n",
       "    <tr>\n",
       "      <th>RockSource</th>\n",
       "      <th></th>\n",
       "      <th></th>\n",
       "    </tr>\n",
       "  </thead>\n",
       "  <tbody>\n",
       "    <tr>\n",
       "      <th>Formation</th>\n",
       "      <td>108</td>\n",
       "      <td>19</td>\n",
       "    </tr>\n",
       "    <tr>\n",
       "      <th>Outcrop</th>\n",
       "      <td>26</td>\n",
       "      <td>89</td>\n",
       "    </tr>\n",
       "  </tbody>\n",
       "</table>\n",
       "</div>"
      ],
      "text/plain": [
       "RockType    Dolomite  Limestone\n",
       "RockSource                     \n",
       "Formation        108         19\n",
       "Outcrop           26         89"
      ]
     },
     "execution_count": 5,
     "metadata": {},
     "output_type": "execute_result"
    }
   ],
   "source": [
    "pd.crosstab(df.RockSource, df.RockType)"
   ]
  },
  {
   "cell_type": "markdown",
   "metadata": {},
   "source": [
    "## 2.3 Temperature"
   ]
  },
  {
   "cell_type": "code",
   "execution_count": 7,
   "metadata": {},
   "outputs": [
    {
     "data": {
      "text/plain": [
       "(10.0, 110.0)"
      ]
     },
     "execution_count": 7,
     "metadata": {},
     "output_type": "execute_result"
    },
    {
     "data": {
      "image/png": "[encoded data removed]",
      "text/plain": [
       "<Figure size 432x72 with 1 Axes>"
      ]
     },
     "metadata": {
      "needs_background": "light"
     },
     "output_type": "display_data"
    }
   ],
   "source": [
    "plt.figure(figsize=(6,1))\n",
    "I = sns.boxplot(x = df['ExpTemp'], orient = \"h\")\n",
    "plt.xlim(10, 110)"
   ]
  },
  {
   "cell_type": "code",
   "execution_count": 8,
   "metadata": {},
   "outputs": [
    {
     "data": {
      "text/plain": [
       "<seaborn.axisgrid.FacetGrid at 0x1733e59af40>"
      ]
     },
     "execution_count": 8,
     "metadata": {},
     "output_type": "execute_result"
    },
    {
     "data": {
      "image/png": "[encoded data removed]",
      "text/plain": [
       "<Figure size 447.75x360 with 1 Axes>"
      ]
     },
     "metadata": {
      "needs_background": "light"
     },
     "output_type": "display_data"
    }
   ],
   "source": [
    "sns.displot(x=\"ExpTemp\", bins=[20, 40, 60, 80, 100, 120], \n",
    "            hue=\"RockType\", multiple=\"stack\", data= df)"
   ]
  },
  {
   "cell_type": "markdown",
   "metadata": {},
   "source": [
    "## 2.4 Porosity"
   ]
  },
  {
   "cell_type": "code",
   "execution_count": 9,
   "metadata": {},
   "outputs": [
    {
     "data": {
      "text/plain": [
       "(0.0, 60.0)"
      ]
     },
     "execution_count": 9,
     "metadata": {},
     "output_type": "execute_result"
    },
    {
     "data": {
      "image/png": "[encoded data removed]",
      "text/plain": [
       "<Figure size 432x72 with 1 Axes>"
      ]
     },
     "metadata": {
      "needs_background": "light"
     },
     "output_type": "display_data"
    }
   ],
   "source": [
    "plt.figure(figsize=(6,1))\n",
    "I = sns.boxplot(x = df['Poro'], orient = \"h\")\n",
    "plt.xlim(0, 60)"
   ]
  },
  {
   "cell_type": "markdown",
   "metadata": {},
   "source": [
    "All cores with porosity larger than 31.3% are from outcrop chalk samples from the Stevns Klint near\n",
    "Copenhagen, Denmark. And these cores have permeability 1-7 mD. All these cores are investigated by UiS."
   ]
  },
  {
   "cell_type": "code",
   "execution_count": 10,
   "metadata": {},
   "outputs": [
    {
     "data": {
      "image/png": "[encoded data removed]",
      "text/plain": [
       "<Figure size 447.75x360 with 1 Axes>"
      ]
     },
     "metadata": {
      "needs_background": "light"
     },
     "output_type": "display_data"
    }
   ],
   "source": [
    "sns.displot(x= \"Poro\", bins= [0, 10, 20, 30, 40, 50, 60], \n",
    "            hue= \"RockType\", multiple= \"stack\", data= df)\n",
    "\n",
    "# set y axis every range is 10\n",
    "from matplotlib.pyplot import MultipleLocator\n",
    "y_major_locator=MultipleLocator(10)\n",
    "ax=plt.gca()\n",
    "ax.yaxis.set_major_locator(y_major_locator)\n",
    "\n",
    "plt.ylim(0, 100)\n",
    "plt.show()"
   ]
  },
  {
   "cell_type": "markdown",
   "metadata": {},
   "source": [
    "## 2.5 Starting oil saturation"
   ]
  },
  {
   "cell_type": "code",
   "execution_count": 11,
   "metadata": {},
   "outputs": [
    {
     "data": {
      "text/plain": [
       "(20.0, 120.0)"
      ]
     },
     "execution_count": 11,
     "metadata": {},
     "output_type": "execute_result"
    },
    {
     "data": {
      "image/png": "[encoded data removed]",
      "text/plain": [
       "<Figure size 432x72 with 1 Axes>"
      ]
     },
     "metadata": {
      "needs_background": "light"
     },
     "output_type": "display_data"
    }
   ],
   "source": [
    "plt.figure(figsize = (6, 1))\n",
    "Soi = sns.boxplot(x = 'So', orient = \"h\", data = df)\n",
    "plt.xlim(20, 120)"
   ]
  },
  {
   "cell_type": "code",
   "execution_count": 12,
   "metadata": {},
   "outputs": [
    {
     "data": {
      "text/plain": [
       "<seaborn.axisgrid.FacetGrid at 0x1733e798ac0>"
      ]
     },
     "execution_count": 12,
     "metadata": {},
     "output_type": "execute_result"
    },
    {
     "data": {
      "image/png": "[encoded data removed]",
      "text/plain": [
       "<Figure size 447.75x360 with 1 Axes>"
      ]
     },
     "metadata": {
      "needs_background": "light"
     },
     "output_type": "display_data"
    }
   ],
   "source": [
    "sns.displot(x=\"So\", bins=[30, 40, 50, 60, 70, 80, 90, 100, 110], \n",
    "            hue=\"RockType\", multiple=\"stack\", data= df)"
   ]
  },
  {
   "cell_type": "markdown",
   "metadata": {},
   "source": [
    "## 2.6 Permeability"
   ]
  },
  {
   "cell_type": "code",
   "execution_count": 13,
   "metadata": {},
   "outputs": [
    {
     "data": {
      "text/plain": [
       "(0.0, 1600.0)"
      ]
     },
     "execution_count": 13,
     "metadata": {},
     "output_type": "execute_result"
    },
    {
     "data": {
      "image/png": "[encoded data removed]",
      "text/plain": [
       "<Figure size 432x72 with 1 Axes>"
      ]
     },
     "metadata": {
      "needs_background": "light"
     },
     "output_type": "display_data"
    }
   ],
   "source": [
    "df_GasK= df[df['K_Type']=='Gas']\n",
    "\n",
    "# Gas K, boxplot\n",
    "plt.figure(figsize=(6,1))\n",
    "GasKBox= sns.boxplot(x='K_Mean', data= df_GasK)\n",
    "plt.xlabel('Gas permeability, mD')\n",
    "plt.xlim(0, 1600)"
   ]
  },
  {
   "cell_type": "code",
   "execution_count": 14,
   "metadata": {},
   "outputs": [
    {
     "data": {
      "text/plain": [
       "<seaborn.axisgrid.FacetGrid at 0x1733e890f70>"
      ]
     },
     "execution_count": 14,
     "metadata": {},
     "output_type": "execute_result"
    },
    {
     "data": {
      "image/png": "[encoded data removed]",
      "text/plain": [
       "<Figure size 447.75x360 with 1 Axes>"
      ]
     },
     "metadata": {
      "needs_background": "light"
     },
     "output_type": "display_data"
    }
   ],
   "source": [
    "sns.displot(x=\"K_Mean\", \n",
    "            bins=[0,100,200,300,400,500,600,700,800,900,1000,1100,1200,1300,1400,1500,1600], \n",
    "            hue=\"RockType\", multiple=\"stack\", data= df)"
   ]
  },
  {
   "cell_type": "markdown",
   "metadata": {},
   "source": [
    "# 3. Oil properties"
   ]
  },
  {
   "cell_type": "markdown",
   "metadata": {},
   "source": [
    "## 3.1 Oil source"
   ]
  },
  {
   "cell_type": "code",
   "execution_count": 16,
   "metadata": {},
   "outputs": [
    {
     "data": {
      "text/html": [
       "<div>\n",
       "<style scoped>\n",
       "    .dataframe tbody tr th:only-of-type {\n",
       "        vertical-align: middle;\n",
       "    }\n",
       "\n",
       "    .dataframe tbody tr th {\n",
       "        vertical-align: top;\n",
       "    }\n",
       "\n",
       "    .dataframe thead th {\n",
       "        text-align: right;\n",
       "    }\n",
       "</style>\n",
       "<table border=\"1\" class=\"dataframe\">\n",
       "  <thead>\n",
       "    <tr style=\"text-align: right;\">\n",
       "      <th>col_0</th>\n",
       "      <th>count</th>\n",
       "    </tr>\n",
       "    <tr>\n",
       "      <th>OilType</th>\n",
       "      <th></th>\n",
       "    </tr>\n",
       "  </thead>\n",
       "  <tbody>\n",
       "    <tr>\n",
       "      <th>Commercial oil</th>\n",
       "      <td>13</td>\n",
       "    </tr>\n",
       "    <tr>\n",
       "      <th>Dead oil</th>\n",
       "      <td>181</td>\n",
       "    </tr>\n",
       "    <tr>\n",
       "      <th>Simulated oil</th>\n",
       "      <td>96</td>\n",
       "    </tr>\n",
       "  </tbody>\n",
       "</table>\n",
       "</div>"
      ],
      "text/plain": [
       "col_0           count\n",
       "OilType              \n",
       "Commercial oil     13\n",
       "Dead oil          181\n",
       "Simulated oil      96"
      ]
     },
     "execution_count": 16,
     "metadata": {},
     "output_type": "execute_result"
    }
   ],
   "source": [
    "# oil source\n",
    "# the first column in the crosstable is 'count'\n",
    "pd.crosstab(index= df['OilType'], columns=\"count\")"
   ]
  },
  {
   "cell_type": "markdown",
   "metadata": {},
   "source": [
    "## 3.2. Oil viscosity"
   ]
  },
  {
   "cell_type": "code",
   "execution_count": 17,
   "metadata": {},
   "outputs": [
    {
     "data": {
      "text/plain": [
       "(0.0, 30.0)"
      ]
     },
     "execution_count": 17,
     "metadata": {},
     "output_type": "execute_result"
    },
    {
     "data": {
      "image/png": "[encoded data removed]",
      "text/plain": [
       "<Figure size 432x72 with 1 Axes>"
      ]
     },
     "metadata": {
      "needs_background": "light"
     },
     "output_type": "display_data"
    }
   ],
   "source": [
    "plt.figure(figsize=(6,1))\n",
    "I = sns.boxplot(x = df['ExpVisco'], orient = \"h\")\n",
    "plt.xlim(0, 30)"
   ]
  },
  {
   "cell_type": "markdown",
   "metadata": {},
   "source": [
    "### 3.2.1 Based on oil type"
   ]
  },
  {
   "cell_type": "code",
   "execution_count": 17,
   "metadata": {},
   "outputs": [
    {
     "data": {
      "text/plain": [
       "<seaborn.axisgrid.FacetGrid at 0x1733e8d9b20>"
      ]
     },
     "execution_count": 17,
     "metadata": {},
     "output_type": "execute_result"
    },
    {
     "data": {
      "image/png": "[encoded data removed]",
      "text/plain": [
       "<Figure size 470.375x360 with 1 Axes>"
      ]
     },
     "metadata": {
      "needs_background": "light"
     },
     "output_type": "display_data"
    }
   ],
   "source": [
    "sns.displot(x= \"ExpVisco\", \n",
    "            bins= [0, 5, 10, 15, 20, 25], \n",
    "            hue= \"OilType\", \n",
    "            multiple= \"stack\", \n",
    "            data= df)"
   ]
  },
  {
   "cell_type": "markdown",
   "metadata": {},
   "source": [
    "### 3.2.2 Based on rock type"
   ]
  },
  {
   "cell_type": "code",
   "execution_count": 18,
   "metadata": {},
   "outputs": [
    {
     "data": {
      "text/plain": [
       "<seaborn.axisgrid.FacetGrid at 0x1733e8871c0>"
      ]
     },
     "execution_count": 18,
     "metadata": {},
     "output_type": "execute_result"
    },
    {
     "data": {
      "image/png": "[encoded data removed]",
      "text/plain": [
       "<Figure size 447.75x360 with 1 Axes>"
      ]
     },
     "metadata": {
      "needs_background": "light"
     },
     "output_type": "display_data"
    }
   ],
   "source": [
    "sns.displot(x= \"ExpVisco\", \n",
    "            bins= [0, 5, 10, 15, 20, 25], \n",
    "            hue= \"RockType\", \n",
    "            multiple= \"stack\", \n",
    "            data= df)"
   ]
  },
  {
   "cell_type": "markdown",
   "metadata": {},
   "source": [
    "## 3.3 API Gravity"
   ]
  },
  {
   "cell_type": "code",
   "execution_count": 19,
   "metadata": {},
   "outputs": [
    {
     "data": {
      "text/plain": [
       "(20.0, 80.0)"
      ]
     },
     "execution_count": 19,
     "metadata": {},
     "output_type": "execute_result"
    },
    {
     "data": {
      "image/png": "[encoded data removed]",
      "text/plain": [
       "<Figure size 432x72 with 1 Axes>"
      ]
     },
     "metadata": {
      "needs_background": "light"
     },
     "output_type": "display_data"
    }
   ],
   "source": [
    "plt.figure(figsize=(6,1))\n",
    "I = sns.boxplot(x = df['Gravity'], orient = \"h\")\n",
    "plt.xlim(20, 80)"
   ]
  },
  {
   "cell_type": "markdown",
   "metadata": {},
   "source": [
    "### 3.3.1 Based on oil type"
   ]
  },
  {
   "cell_type": "code",
   "execution_count": 20,
   "metadata": {},
   "outputs": [
    {
     "data": {
      "text/plain": [
       "(20.0, 80.0)"
      ]
     },
     "execution_count": 20,
     "metadata": {},
     "output_type": "execute_result"
    },
    {
     "data": {
      "text/plain": [
       "<Figure size 432x216 with 0 Axes>"
      ]
     },
     "metadata": {},
     "output_type": "display_data"
    },
    {
     "data": {
      "image/png": "[encoded data removed]",
      "text/plain": [
       "<Figure size 470.375x360 with 1 Axes>"
      ]
     },
     "metadata": {
      "needs_background": "light"
     },
     "output_type": "display_data"
    }
   ],
   "source": [
    "plt.figure(figsize = (6, 3))\n",
    "sns.displot(x= \"Gravity\", bins= [20, 30, 40, 50, 60, 70, 80], \n",
    "            hue= \"OilType\", multiple= \"stack\", data= df)\n",
    "\n",
    "plt.xlabel('Oil gravity, API')\n",
    "plt.ylabel('Frequency')\n",
    "plt.ylim(0, 120)\n",
    "plt.xlim(20, 80)"
   ]
  },
  {
   "cell_type": "markdown",
   "metadata": {},
   "source": [
    "### 3.3.2 Based on rock type"
   ]
  },
  {
   "cell_type": "code",
   "execution_count": 21,
   "metadata": {},
   "outputs": [
    {
     "data": {
      "text/plain": [
       "(20.0, 80.0)"
      ]
     },
     "execution_count": 21,
     "metadata": {},
     "output_type": "execute_result"
    },
    {
     "data": {
      "text/plain": [
       "<Figure size 432x216 with 0 Axes>"
      ]
     },
     "metadata": {},
     "output_type": "display_data"
    },
    {
     "data": {
      "image/png": "[encoded data removed]",
      "text/plain": [
       "<Figure size 447.75x360 with 1 Axes>"
      ]
     },
     "metadata": {
      "needs_background": "light"
     },
     "output_type": "display_data"
    }
   ],
   "source": [
    "plt.figure(figsize = (6, 3))\n",
    "sns.displot(x= \"Gravity\", bins= [20, 30, 40, 50, 60, 70, 80], \n",
    "            hue= \"RockType\", multiple= \"stack\", data= df)\n",
    "\n",
    "plt.xlabel('Oil gravity, API')\n",
    "plt.ylabel('Frequency')\n",
    "plt.ylim(0, 120)\n",
    "plt.xlim(20, 80)"
   ]
  },
  {
   "cell_type": "markdown",
   "metadata": {},
   "source": [
    "## 3.4 Acid number"
   ]
  },
  {
   "cell_type": "code",
   "execution_count": 22,
   "metadata": {},
   "outputs": [
    {
     "data": {
      "image/png": "[encoded data removed]",
      "text/plain": [
       "<Figure size 432x72 with 1 Axes>"
      ]
     },
     "metadata": {
      "needs_background": "light"
     },
     "output_type": "display_data"
    }
   ],
   "source": [
    "plt.figure(figsize=(6,1))\n",
    "I = sns.boxplot(x = df['AN'], orient = \"h\")\n",
    "# plt.xlim(0, 5)"
   ]
  },
  {
   "cell_type": "markdown",
   "metadata": {},
   "source": [
    "### 3.4.1 Based on oil type"
   ]
  },
  {
   "cell_type": "code",
   "execution_count": 23,
   "metadata": {},
   "outputs": [
    {
     "data": {
      "text/plain": [
       "<seaborn.axisgrid.FacetGrid at 0x1733fc27cd0>"
      ]
     },
     "execution_count": 23,
     "metadata": {},
     "output_type": "execute_result"
    },
    {
     "data": {
      "image/png": "[encoded data removed]",
      "text/plain": [
       "<Figure size 470.375x360 with 1 Axes>"
      ]
     },
     "metadata": {
      "needs_background": "light"
     },
     "output_type": "display_data"
    }
   ],
   "source": [
    "sns.displot(x= \"AN\", \n",
    "            bins= [0, 0.5, 1.0, 1.5, 2.0,\n",
    "                   2.5, 3.0, 3.5, 4.0,\n",
    "                   4.5, 5.0], \n",
    "            hue= \"OilType\", \n",
    "            multiple= \"stack\", \n",
    "            data= df)"
   ]
  },
  {
   "cell_type": "markdown",
   "metadata": {},
   "source": [
    "### 3.4.2 Based on rock type"
   ]
  },
  {
   "cell_type": "code",
   "execution_count": 24,
   "metadata": {},
   "outputs": [
    {
     "data": {
      "text/plain": [
       "<seaborn.axisgrid.FacetGrid at 0x1733fceb220>"
      ]
     },
     "execution_count": 24,
     "metadata": {},
     "output_type": "execute_result"
    },
    {
     "data": {
      "image/png": "[encoded data removed]",
      "text/plain": [
       "<Figure size 447.75x360 with 1 Axes>"
      ]
     },
     "metadata": {
      "needs_background": "light"
     },
     "output_type": "display_data"
    }
   ],
   "source": [
    "sns.displot(x= \"AN\", \n",
    "            bins= [0, 0.5, 1.0, 1.5, 2.0,\n",
    "                   2.5, 3.0, 3.5, 4.0,\n",
    "                   4.5, 5.0],\n",
    "            hue= \"RockType\", \n",
    "            multiple= \"stack\", \n",
    "            data= df)"
   ]
  },
  {
   "cell_type": "markdown",
   "metadata": {},
   "source": [
    "## 3.5 Asphaltene concentration"
   ]
  },
  {
   "cell_type": "code",
   "execution_count": 26,
   "metadata": {},
   "outputs": [
    {
     "data": {
      "text/plain": [
       "(0.0, 12.0)"
      ]
     },
     "execution_count": 26,
     "metadata": {},
     "output_type": "execute_result"
    },
    {
     "data": {
      "image/png": "[encoded data removed]",
      "text/plain": [
       "<Figure size 432x72 with 1 Axes>"
      ]
     },
     "metadata": {
      "needs_background": "light"
     },
     "output_type": "display_data"
    }
   ],
   "source": [
    "plt.figure(figsize=(6,1))\n",
    "I = sns.boxplot(x = df['AS_Conc'], orient = \"h\")\n",
    "plt.xlim(0, 12)"
   ]
  },
  {
   "cell_type": "markdown",
   "metadata": {},
   "source": [
    "### 3.5.1 Based on oil type"
   ]
  },
  {
   "cell_type": "code",
   "execution_count": 27,
   "metadata": {},
   "outputs": [
    {
     "data": {
      "text/plain": [
       "<seaborn.axisgrid.FacetGrid at 0x1733fddeb20>"
      ]
     },
     "execution_count": 27,
     "metadata": {},
     "output_type": "execute_result"
    },
    {
     "data": {
      "image/png": "[encoded data removed]",
      "text/plain": [
       "<Figure size 470.375x360 with 1 Axes>"
      ]
     },
     "metadata": {
      "needs_background": "light"
     },
     "output_type": "display_data"
    }
   ],
   "source": [
    "sns.displot(x= \"AS_Conc\", \n",
    "            bins= [0, 1, 2, 3, 4, 5, 6, 7, 8, 9, 10, 11, 12], \n",
    "            hue= \"OilType\", \n",
    "            multiple= \"stack\", \n",
    "            data= df)"
   ]
  },
  {
   "cell_type": "markdown",
   "metadata": {},
   "source": [
    "Very often, a positive correlation between the AN and the amount of asphaltenes is observed for different oils, but the functional acid groups need not be part of the asphaltene fraction (Skauge et al., 1999). Likewise, in our case, we have\n",
    "an oil with relatively high asphaltenic content and a relatively low AN.(JPSE_28(2000)111_121)"
   ]
  },
  {
   "cell_type": "markdown",
   "metadata": {},
   "source": [
    "### 3.5.2 Based on rock type"
   ]
  },
  {
   "cell_type": "code",
   "execution_count": 28,
   "metadata": {},
   "outputs": [
    {
     "data": {
      "text/plain": [
       "<seaborn.axisgrid.FacetGrid at 0x1733fd3a130>"
      ]
     },
     "execution_count": 28,
     "metadata": {},
     "output_type": "execute_result"
    },
    {
     "data": {
      "image/png": "[encoded data removed]",
      "text/plain": [
       "<Figure size 447.75x360 with 1 Axes>"
      ]
     },
     "metadata": {
      "needs_background": "light"
     },
     "output_type": "display_data"
    }
   ],
   "source": [
    "sns.displot(x= \"AS_Conc\", \n",
    "            bins= [0, 1, 2, 3, 4, 5, 6, 7, 8, 9, 10, 11, 12], \n",
    "            hue= \"RockType\", \n",
    "            multiple= \"stack\", \n",
    "            data= df)"
   ]
  },
  {
   "cell_type": "markdown",
   "metadata": {},
   "source": [
    "# 4 Connate water properties"
   ]
  },
  {
   "cell_type": "markdown",
   "metadata": {},
   "source": [
    "## 4.1 Connate water type"
   ]
  },
  {
   "cell_type": "code",
   "execution_count": 32,
   "metadata": {},
   "outputs": [
    {
     "data": {
      "text/html": [
       "<div>\n",
       "<style scoped>\n",
       "    .dataframe tbody tr th:only-of-type {\n",
       "        vertical-align: middle;\n",
       "    }\n",
       "\n",
       "    .dataframe tbody tr th {\n",
       "        vertical-align: top;\n",
       "    }\n",
       "\n",
       "    .dataframe thead th {\n",
       "        text-align: right;\n",
       "    }\n",
       "</style>\n",
       "<table border=\"1\" class=\"dataframe\">\n",
       "  <thead>\n",
       "    <tr style=\"text-align: right;\">\n",
       "      <th>col_0</th>\n",
       "      <th>count</th>\n",
       "    </tr>\n",
       "    <tr>\n",
       "      <th>ConType</th>\n",
       "      <th></th>\n",
       "    </tr>\n",
       "  </thead>\n",
       "  <tbody>\n",
       "    <tr>\n",
       "      <th>DW</th>\n",
       "      <td>6</td>\n",
       "    </tr>\n",
       "    <tr>\n",
       "      <th>FW</th>\n",
       "      <td>13</td>\n",
       "    </tr>\n",
       "    <tr>\n",
       "      <th>SFW</th>\n",
       "      <td>160</td>\n",
       "    </tr>\n",
       "    <tr>\n",
       "      <th>SSW</th>\n",
       "      <td>18</td>\n",
       "    </tr>\n",
       "    <tr>\n",
       "      <th>SW</th>\n",
       "      <td>81</td>\n",
       "    </tr>\n",
       "    <tr>\n",
       "      <th>SW(KCl&amp; CaCl2)</th>\n",
       "      <td>5</td>\n",
       "    </tr>\n",
       "    <tr>\n",
       "      <th>SW(KCl)</th>\n",
       "      <td>3</td>\n",
       "    </tr>\n",
       "    <tr>\n",
       "      <th>SW(Na2CO3)</th>\n",
       "      <td>1</td>\n",
       "    </tr>\n",
       "    <tr>\n",
       "      <th>SW(NaCl)</th>\n",
       "      <td>3</td>\n",
       "    </tr>\n",
       "  </tbody>\n",
       "</table>\n",
       "</div>"
      ],
      "text/plain": [
       "col_0           count\n",
       "ConType              \n",
       "DW                  6\n",
       "FW                 13\n",
       "SFW               160\n",
       "SSW                18\n",
       "SW                 81\n",
       "SW(KCl& CaCl2)      5\n",
       "SW(KCl)             3\n",
       "SW(Na2CO3)          1\n",
       "SW(NaCl)            3"
      ]
     },
     "execution_count": 32,
     "metadata": {},
     "output_type": "execute_result"
    }
   ],
   "source": [
    "# connate brine type\n",
    "# the first column in the crosstable is 'count'\n",
    "\n",
    "pd.crosstab(index= df['ConType'], columns=\"count\")"
   ]
  },
  {
   "cell_type": "markdown",
   "metadata": {},
   "source": [
    "## 4.2 Connate water TDS"
   ]
  },
  {
   "cell_type": "code",
   "execution_count": 33,
   "metadata": {},
   "outputs": [
    {
     "data": {
      "text/plain": [
       "(0.0, 300.0)"
      ]
     },
     "execution_count": 33,
     "metadata": {},
     "output_type": "execute_result"
    },
    {
     "data": {
      "image/png": "[encoded data removed]",
      "text/plain": [
       "<Figure size 432x72 with 1 Axes>"
      ]
     },
     "metadata": {
      "needs_background": "light"
     },
     "output_type": "display_data"
    }
   ],
   "source": [
    "# Connate water TDS, boxplot\n",
    "\n",
    "plt.figure(figsize=(6, 1))\n",
    "ConTDS = sns.boxplot(x = 'ConTDS', orient = \"h\", data= df)\n",
    "plt.xlabel('Total dissolved solid, g/l')\n",
    "plt.xlim(0, 300)"
   ]
  },
  {
   "cell_type": "code",
   "execution_count": 34,
   "metadata": {},
   "outputs": [
    {
     "data": {
      "text/plain": [
       "(0.0, 200.0)"
      ]
     },
     "execution_count": 34,
     "metadata": {},
     "output_type": "execute_result"
    },
    {
     "data": {
      "text/plain": [
       "<Figure size 432x216 with 0 Axes>"
      ]
     },
     "metadata": {},
     "output_type": "display_data"
    },
    {
     "data": {
      "image/png": "[encoded data removed]",
      "text/plain": [
       "<Figure size 447.75x360 with 1 Axes>"
      ]
     },
     "metadata": {
      "needs_background": "light"
     },
     "output_type": "display_data"
    }
   ],
   "source": [
    "plt.figure(figsize = (6, 3))\n",
    "sns.displot(x= \"ConTDS\", \n",
    "            bins= [0, 25, 50, 75, 100, 125, \n",
    "                   150, 175, 200, 225, 250, 300],\n",
    "            hue= \"RockType\", \n",
    "            multiple= \"stack\", \n",
    "            data= df)\n",
    "\n",
    "plt.xlabel('Connate water TDS')\n",
    "plt.ylabel('Frequency')\n",
    "plt.ylim(0, 200)\n",
    "# plt.xlim(20, 80)"
   ]
  },
  {
   "cell_type": "markdown",
   "metadata": {},
   "source": [
    "## 4.3 Connate water divalent cations"
   ]
  },
  {
   "cell_type": "code",
   "execution_count": 35,
   "metadata": {},
   "outputs": [
    {
     "data": {
      "text/plain": [
       "Text(0.5, 0, 'Connate water divalent cations concentration, g/l')"
      ]
     },
     "execution_count": 35,
     "metadata": {},
     "output_type": "execute_result"
    },
    {
     "data": {
      "image/png": "[encoded data removed]",
      "text/plain": [
       "<Figure size 432x72 with 1 Axes>"
      ]
     },
     "metadata": {
      "needs_background": "light"
     },
     "output_type": "display_data"
    }
   ],
   "source": [
    "# Connate water Mg2+ and Ca2+, boxplot\n",
    "\n",
    "plt.figure(figsize=(6,1))\n",
    "ConMg = sns.boxplot(x = 'ConDivalent', orient = \"h\", data= df)\n",
    "plt.xlabel('Connate water divalent cations concentration, g/l')\n",
    "# plt.xlim(0, 5)"
   ]
  },
  {
   "cell_type": "code",
   "execution_count": 37,
   "metadata": {},
   "outputs": [
    {
     "data": {
      "text/plain": [
       "(0.0, 200.0)"
      ]
     },
     "execution_count": 37,
     "metadata": {},
     "output_type": "execute_result"
    },
    {
     "data": {
      "text/plain": [
       "<Figure size 432x216 with 0 Axes>"
      ]
     },
     "metadata": {},
     "output_type": "display_data"
    },
    {
     "data": {
      "image/png": "[encoded data removed]",
      "text/plain": [
       "<Figure size 447.75x360 with 1 Axes>"
      ]
     },
     "metadata": {
      "needs_background": "light"
     },
     "output_type": "display_data"
    }
   ],
   "source": [
    "plt.figure(figsize = (6, 3))\n",
    "sns.displot(x= \"ConDivalent\", \n",
    "            bins= [0, 2.5, 5.0, 7.5, 10, \n",
    "                   12.5, 15, 17.5, 20,\n",
    "                   22.5, 25],\n",
    "            hue= \"RockType\", \n",
    "            multiple= \"stack\", \n",
    "            data= df)\n",
    "\n",
    "plt.xlabel('Connate water divalent cations concentration, g/l')\n",
    "plt.ylabel('Frequency')\n",
    "plt.ylim(0, 200)\n",
    "# plt.xlim(20, 80)"
   ]
  },
  {
   "cell_type": "markdown",
   "metadata": {},
   "source": [
    "# 5. Guidelines table"
   ]
  },
  {
   "cell_type": "code",
   "execution_count": 38,
   "metadata": {},
   "outputs": [
    {
     "data": {
      "text/html": [
       "<div>\n",
       "<style scoped>\n",
       "    .dataframe tbody tr th:only-of-type {\n",
       "        vertical-align: middle;\n",
       "    }\n",
       "\n",
       "    .dataframe tbody tr th {\n",
       "        vertical-align: top;\n",
       "    }\n",
       "\n",
       "    .dataframe thead th {\n",
       "        text-align: right;\n",
       "    }\n",
       "</style>\n",
       "<table border=\"1\" class=\"dataframe\">\n",
       "  <thead>\n",
       "    <tr style=\"text-align: right;\">\n",
       "      <th></th>\n",
       "      <th>count</th>\n",
       "      <th>mean</th>\n",
       "      <th>std</th>\n",
       "      <th>min</th>\n",
       "      <th>25%</th>\n",
       "      <th>50%</th>\n",
       "      <th>75%</th>\n",
       "      <th>max</th>\n",
       "    </tr>\n",
       "  </thead>\n",
       "  <tbody>\n",
       "    <tr>\n",
       "      <th>K_Mean</th>\n",
       "      <td>290.0</td>\n",
       "      <td>120.375138</td>\n",
       "      <td>213.259528</td>\n",
       "      <td>0.04000</td>\n",
       "      <td>4.500000</td>\n",
       "      <td>31.150</td>\n",
       "      <td>150.00</td>\n",
       "      <td>1458.000</td>\n",
       "    </tr>\n",
       "    <tr>\n",
       "      <th>Poro</th>\n",
       "      <td>286.0</td>\n",
       "      <td>25.132063</td>\n",
       "      <td>12.638576</td>\n",
       "      <td>3.10000</td>\n",
       "      <td>15.350000</td>\n",
       "      <td>22.900</td>\n",
       "      <td>29.25</td>\n",
       "      <td>51.700</td>\n",
       "    </tr>\n",
       "    <tr>\n",
       "      <th>So</th>\n",
       "      <td>290.0</td>\n",
       "      <td>77.349388</td>\n",
       "      <td>15.159966</td>\n",
       "      <td>37.66282</td>\n",
       "      <td>68.322465</td>\n",
       "      <td>74.390</td>\n",
       "      <td>90.00</td>\n",
       "      <td>100.000</td>\n",
       "    </tr>\n",
       "    <tr>\n",
       "      <th>ExpTemp</th>\n",
       "      <td>290.0</td>\n",
       "      <td>52.409962</td>\n",
       "      <td>25.803713</td>\n",
       "      <td>20.00000</td>\n",
       "      <td>40.000000</td>\n",
       "      <td>40.000</td>\n",
       "      <td>70.00</td>\n",
       "      <td>100.000</td>\n",
       "    </tr>\n",
       "    <tr>\n",
       "      <th>ExpVisco</th>\n",
       "      <td>183.0</td>\n",
       "      <td>9.571530</td>\n",
       "      <td>6.202856</td>\n",
       "      <td>0.33000</td>\n",
       "      <td>3.300000</td>\n",
       "      <td>9.900</td>\n",
       "      <td>12.40</td>\n",
       "      <td>23.000</td>\n",
       "    </tr>\n",
       "    <tr>\n",
       "      <th>Gravity</th>\n",
       "      <td>281.0</td>\n",
       "      <td>35.037687</td>\n",
       "      <td>9.346076</td>\n",
       "      <td>22.00000</td>\n",
       "      <td>28.200000</td>\n",
       "      <td>30.400</td>\n",
       "      <td>41.69</td>\n",
       "      <td>75.170</td>\n",
       "    </tr>\n",
       "    <tr>\n",
       "      <th>AN</th>\n",
       "      <td>188.0</td>\n",
       "      <td>0.705851</td>\n",
       "      <td>0.480836</td>\n",
       "      <td>0.00000</td>\n",
       "      <td>0.200000</td>\n",
       "      <td>1.000</td>\n",
       "      <td>1.04</td>\n",
       "      <td>4.500</td>\n",
       "    </tr>\n",
       "    <tr>\n",
       "      <th>BN</th>\n",
       "      <td>124.0</td>\n",
       "      <td>0.680565</td>\n",
       "      <td>0.726871</td>\n",
       "      <td>0.00000</td>\n",
       "      <td>0.010000</td>\n",
       "      <td>0.130</td>\n",
       "      <td>1.17</td>\n",
       "      <td>1.830</td>\n",
       "    </tr>\n",
       "    <tr>\n",
       "      <th>AS_Conc</th>\n",
       "      <td>194.0</td>\n",
       "      <td>0.909366</td>\n",
       "      <td>1.213290</td>\n",
       "      <td>0.00000</td>\n",
       "      <td>0.230000</td>\n",
       "      <td>1.000</td>\n",
       "      <td>1.09</td>\n",
       "      <td>10.700</td>\n",
       "    </tr>\n",
       "    <tr>\n",
       "      <th>ConTDS</th>\n",
       "      <td>288.0</td>\n",
       "      <td>58.751753</td>\n",
       "      <td>58.384117</td>\n",
       "      <td>0.00000</td>\n",
       "      <td>9.405000</td>\n",
       "      <td>44.920</td>\n",
       "      <td>79.42</td>\n",
       "      <td>263.720</td>\n",
       "    </tr>\n",
       "    <tr>\n",
       "      <th>ConMg2+</th>\n",
       "      <td>286.0</td>\n",
       "      <td>0.758262</td>\n",
       "      <td>0.732001</td>\n",
       "      <td>0.00000</td>\n",
       "      <td>0.240000</td>\n",
       "      <td>0.451</td>\n",
       "      <td>0.93</td>\n",
       "      <td>4.018</td>\n",
       "    </tr>\n",
       "    <tr>\n",
       "      <th>ConCa2+</th>\n",
       "      <td>286.0</td>\n",
       "      <td>3.662836</td>\n",
       "      <td>5.015201</td>\n",
       "      <td>0.00000</td>\n",
       "      <td>0.800000</td>\n",
       "      <td>3.030</td>\n",
       "      <td>3.88</td>\n",
       "      <td>20.550</td>\n",
       "    </tr>\n",
       "    <tr>\n",
       "      <th>ConDivalent</th>\n",
       "      <td>286.0</td>\n",
       "      <td>4.421098</td>\n",
       "      <td>5.630175</td>\n",
       "      <td>0.00000</td>\n",
       "      <td>1.040000</td>\n",
       "      <td>3.430</td>\n",
       "      <td>4.36</td>\n",
       "      <td>24.568</td>\n",
       "    </tr>\n",
       "  </tbody>\n",
       "</table>\n",
       "</div>"
      ],
      "text/plain": [
       "             count        mean         std       min        25%     50%  \\\n",
       "K_Mean       290.0  120.375138  213.259528   0.04000   4.500000  31.150   \n",
       "Poro         286.0   25.132063   12.638576   3.10000  15.350000  22.900   \n",
       "So           290.0   77.349388   15.159966  37.66282  68.322465  74.390   \n",
       "ExpTemp      290.0   52.409962   25.803713  20.00000  40.000000  40.000   \n",
       "ExpVisco     183.0    9.571530    6.202856   0.33000   3.300000   9.900   \n",
       "Gravity      281.0   35.037687    9.346076  22.00000  28.200000  30.400   \n",
       "AN           188.0    0.705851    0.480836   0.00000   0.200000   1.000   \n",
       "BN           124.0    0.680565    0.726871   0.00000   0.010000   0.130   \n",
       "AS_Conc      194.0    0.909366    1.213290   0.00000   0.230000   1.000   \n",
       "ConTDS       288.0   58.751753   58.384117   0.00000   9.405000  44.920   \n",
       "ConMg2+      286.0    0.758262    0.732001   0.00000   0.240000   0.451   \n",
       "ConCa2+      286.0    3.662836    5.015201   0.00000   0.800000   3.030   \n",
       "ConDivalent  286.0    4.421098    5.630175   0.00000   1.040000   3.430   \n",
       "\n",
       "                75%       max  \n",
       "K_Mean       150.00  1458.000  \n",
       "Poro          29.25    51.700  \n",
       "So            90.00   100.000  \n",
       "ExpTemp       70.00   100.000  \n",
       "ExpVisco      12.40    23.000  \n",
       "Gravity       41.69    75.170  \n",
       "AN             1.04     4.500  \n",
       "BN             1.17     1.830  \n",
       "AS_Conc        1.09    10.700  \n",
       "ConTDS        79.42   263.720  \n",
       "ConMg2+        0.93     4.018  \n",
       "ConCa2+        3.88    20.550  \n",
       "ConDivalent    4.36    24.568  "
      ]
     },
     "execution_count": 38,
     "metadata": {},
     "output_type": "execute_result"
    }
   ],
   "source": [
    "# overall\n",
    "df.describe().T"
   ]
  },
  {
   "cell_type": "code",
   "execution_count": null,
   "metadata": {},
   "outputs": [],
   "source": []
  },
  {
   "cell_type": "code",
   "execution_count": null,
   "metadata": {},
   "outputs": [],
   "source": []
  }
 ],
 "metadata": {
  "kernelspec": {
   "display_name": "Python 3",
   "language": "python",
   "name": "python3"
  },
  "language_info": {
   "codemirror_mode": {
    "name": "ipython",
    "version": 3
   },
   "file_extension": ".py",
   "mimetype": "text/x-python",
   "name": "python",
   "nbconvert_exporter": "python",
   "pygments_lexer": "ipython3",
   "version": "3.8.5"
  },
  "toc": {
   "base_numbering": 1,
   "nav_menu": {},
   "number_sections": false,
   "sideBar": true,
   "skip_h1_title": false,
   "title_cell": "Table of Contents",
   "title_sidebar": "Contents",
   "toc_cell": false,
   "toc_position": {
    "height": "calc(100% - 180px)",
    "left": "10px",
    "top": "150px",
    "width": "165px"
   },
   "toc_section_display": true,
   "toc_window_display": true
  },
  "varInspector": {
   "cols": {
    "lenName": 16,
    "lenType": 16,
    "lenVar": 40
   },
   "kernels_config": {
    "python": {
     "delete_cmd_postfix": "",
     "delete_cmd_prefix": "del ",
     "library": "var_list.py",
     "varRefreshCmd": "print(var_dic_list())"
    },
    "r": {
     "delete_cmd_postfix": ") ",
     "delete_cmd_prefix": "rm(",
     "library": "var_list.r",
     "varRefreshCmd": "cat(var_dic_list()) "
    }
   },
   "types_to_exclude": [
    "module",
    "function",
    "builtin_function_or_method",
    "instance",
    "_Feature"
   ],
   "window_display": false
  }
 },
 "nbformat": 4,
 "nbformat_minor": 2
}
